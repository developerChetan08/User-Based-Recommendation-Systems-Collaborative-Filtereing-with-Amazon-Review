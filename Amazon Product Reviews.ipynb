{
 "cells": [
  {
   "cell_type": "code",
   "execution_count": 1,
   "id": "e628f7ea",
   "metadata": {},
   "outputs": [],
   "source": [
    "##https://www.kaggle.com/datasets/arhamrumi/amazon-product-reviews\n",
    "##https://www.youtube.com/watch?v=h-tJS0qoPh0&list=PLdF3rLdF4ICTgEwDYcRAECQPnS8eynavM&index=10"
   ]
  },
  {
   "cell_type": "code",
   "execution_count": 2,
   "id": "f17d8a97",
   "metadata": {},
   "outputs": [],
   "source": [
    "import pandas as pd\n",
    "from sklearn.feature_extraction.text import TfidfVectorizer\n",
    "from sklearn.cluster import KMeans"
   ]
  },
  {
   "cell_type": "code",
   "execution_count": 3,
   "id": "a5d518f0",
   "metadata": {},
   "outputs": [
    {
     "data": {
      "text/html": [
       "<div>\n",
       "<style scoped>\n",
       "    .dataframe tbody tr th:only-of-type {\n",
       "        vertical-align: middle;\n",
       "    }\n",
       "\n",
       "    .dataframe tbody tr th {\n",
       "        vertical-align: top;\n",
       "    }\n",
       "\n",
       "    .dataframe thead th {\n",
       "        text-align: right;\n",
       "    }\n",
       "</style>\n",
       "<table border=\"1\" class=\"dataframe\">\n",
       "  <thead>\n",
       "    <tr style=\"text-align: right;\">\n",
       "      <th></th>\n",
       "      <th>Id</th>\n",
       "      <th>ProductId</th>\n",
       "      <th>UserId</th>\n",
       "      <th>ProfileName</th>\n",
       "      <th>HelpfulnessNumerator</th>\n",
       "      <th>HelpfulnessDenominator</th>\n",
       "      <th>Score</th>\n",
       "      <th>Time</th>\n",
       "      <th>Summary</th>\n",
       "      <th>Text</th>\n",
       "    </tr>\n",
       "  </thead>\n",
       "  <tbody>\n",
       "    <tr>\n",
       "      <th>0</th>\n",
       "      <td>1</td>\n",
       "      <td>B001E4KFG0</td>\n",
       "      <td>A3SGXH7AUHU8GW</td>\n",
       "      <td>delmartian</td>\n",
       "      <td>1</td>\n",
       "      <td>1</td>\n",
       "      <td>5</td>\n",
       "      <td>1303862400</td>\n",
       "      <td>Good Quality Dog Food</td>\n",
       "      <td>I have bought several of the Vitality canned d...</td>\n",
       "    </tr>\n",
       "    <tr>\n",
       "      <th>1</th>\n",
       "      <td>2</td>\n",
       "      <td>B00813GRG4</td>\n",
       "      <td>A1D87F6ZCVE5NK</td>\n",
       "      <td>dll pa</td>\n",
       "      <td>0</td>\n",
       "      <td>0</td>\n",
       "      <td>1</td>\n",
       "      <td>1346976000</td>\n",
       "      <td>Not as Advertised</td>\n",
       "      <td>Product arrived labeled as Jumbo Salted Peanut...</td>\n",
       "    </tr>\n",
       "    <tr>\n",
       "      <th>2</th>\n",
       "      <td>3</td>\n",
       "      <td>B000LQOCH0</td>\n",
       "      <td>ABXLMWJIXXAIN</td>\n",
       "      <td>Natalia Corres \"Natalia Corres\"</td>\n",
       "      <td>1</td>\n",
       "      <td>1</td>\n",
       "      <td>4</td>\n",
       "      <td>1219017600</td>\n",
       "      <td>\"Delight\" says it all</td>\n",
       "      <td>This is a confection that has been around a fe...</td>\n",
       "    </tr>\n",
       "  </tbody>\n",
       "</table>\n",
       "</div>"
      ],
      "text/plain": [
       "   Id   ProductId          UserId                      ProfileName  \\\n",
       "0   1  B001E4KFG0  A3SGXH7AUHU8GW                       delmartian   \n",
       "1   2  B00813GRG4  A1D87F6ZCVE5NK                           dll pa   \n",
       "2   3  B000LQOCH0   ABXLMWJIXXAIN  Natalia Corres \"Natalia Corres\"   \n",
       "\n",
       "   HelpfulnessNumerator  HelpfulnessDenominator  Score        Time  \\\n",
       "0                     1                       1      5  1303862400   \n",
       "1                     0                       0      1  1346976000   \n",
       "2                     1                       1      4  1219017600   \n",
       "\n",
       "                 Summary                                               Text  \n",
       "0  Good Quality Dog Food  I have bought several of the Vitality canned d...  \n",
       "1      Not as Advertised  Product arrived labeled as Jumbo Salted Peanut...  \n",
       "2  \"Delight\" says it all  This is a confection that has been around a fe...  "
      ]
     },
     "execution_count": 3,
     "metadata": {},
     "output_type": "execute_result"
    }
   ],
   "source": [
    "data  = pd.read_csv('Reviews.csv')\n",
    "data.head(3)"
   ]
  },
  {
   "cell_type": "code",
   "execution_count": 4,
   "id": "3e8594c3",
   "metadata": {},
   "outputs": [
    {
     "data": {
      "text/plain": [
       "(568454, 10)"
      ]
     },
     "execution_count": 4,
     "metadata": {},
     "output_type": "execute_result"
    }
   ],
   "source": [
    "data.shape"
   ]
  },
  {
   "cell_type": "code",
   "execution_count": 5,
   "id": "4d5d9f26",
   "metadata": {},
   "outputs": [],
   "source": [
    "# Concatenate the 'Summary' and 'Text' columns to create the input text for clustering\n",
    "data['InputText'] = data['Summary'] + ' ' + data['Text']\n",
    "\n",
    "# Remove any rows with missing values in the 'InputText' column\n",
    "data.dropna(subset=['InputText'], inplace=True)"
   ]
  },
  {
   "cell_type": "markdown",
   "id": "5b1aeb82",
   "metadata": {},
   "source": [
    "# convert text into number and take work importance"
   ]
  },
  {
   "cell_type": "code",
   "execution_count": 6,
   "id": "557e7e15",
   "metadata": {},
   "outputs": [],
   "source": [
    "data = data.iloc[:50000,:]\n",
    "vectorizer = TfidfVectorizer(stop_words='english')\n",
    "X = vectorizer.fit_transform(data['InputText'])"
   ]
  },
  {
   "cell_type": "markdown",
   "id": "a10b32c7",
   "metadata": {},
   "source": [
    "# Apply Kmeans Cluster"
   ]
  },
  {
   "cell_type": "code",
   "execution_count": 7,
   "id": "5a5ee6e7",
   "metadata": {},
   "outputs": [
    {
     "data": {
      "text/plain": [
       "KMeans(n_clusters=5, random_state=42)"
      ]
     },
     "execution_count": 7,
     "metadata": {},
     "output_type": "execute_result"
    }
   ],
   "source": [
    "num_clusters = 5  # Set the number of clusters according to your requirements\n",
    "kmeans = KMeans(n_clusters=num_clusters, random_state=42)\n",
    "kmeans.fit(X)"
   ]
  },
  {
   "cell_type": "markdown",
   "id": "60d47670",
   "metadata": {},
   "source": [
    "# Recommend products based on user search:-"
   ]
  },
  {
   "cell_type": "code",
   "execution_count": 8,
   "id": "a284ad2d",
   "metadata": {},
   "outputs": [
    {
     "name": "stdout",
     "output_type": "stream",
     "text": [
      "1    B00813GRG4\n",
      "2    B000LQOCH0\n",
      "3    B000UA0QIQ\n",
      "4    B006K2ZZ7K\n",
      "5    B006K2ZZ7K\n",
      "Name: ProductId, dtype: object\n"
     ]
    }
   ],
   "source": [
    "def recommend_products(search_query, num_recommendations=5):\n",
    "    # Vectorize the search query\n",
    "    query_vector = vectorizer.transform([search_query])\n",
    "\n",
    "    # Predict the cluster for the search query\n",
    "    cluster_label = kmeans.predict(query_vector)[0]\n",
    "\n",
    "    # Find the indices of the products in the same cluster\n",
    "    cluster_indices = data[kmeans.labels_ == cluster_label].index\n",
    "\n",
    "    # Get the top recommendations from the cluster\n",
    "    recommendations = data.loc[cluster_indices].head(num_recommendations)\n",
    "\n",
    "    # Return only the titles of the recommended products\n",
    "    return recommendations['ProductId']\n",
    "\n",
    "\n",
    "search_query = \"delicious chocolate\"\n",
    "recommendations = recommend_products(search_query)\n",
    "print(recommendations)"
   ]
  },
  {
   "cell_type": "code",
   "execution_count": null,
   "id": "33020502",
   "metadata": {},
   "outputs": [],
   "source": []
  }
 ],
 "metadata": {
  "kernelspec": {
   "display_name": "Python 3 (ipykernel)",
   "language": "python",
   "name": "python3"
  },
  "language_info": {
   "codemirror_mode": {
    "name": "ipython",
    "version": 3
   },
   "file_extension": ".py",
   "mimetype": "text/x-python",
   "name": "python",
   "nbconvert_exporter": "python",
   "pygments_lexer": "ipython3",
   "version": "3.9.13"
  }
 },
 "nbformat": 4,
 "nbformat_minor": 5
}
